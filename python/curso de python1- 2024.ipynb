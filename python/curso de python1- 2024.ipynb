{
 "cells": [
  {
   "cell_type": "markdown",
   "metadata": {},
   "source": [
    "PROBLEMA 1\n",
    "Hallar la superficie de un cuadrado conociendo el valor de un lado"
   ]
  },
  {
   "cell_type": "code",
   "execution_count": 4,
   "metadata": {},
   "outputs": [
    {
     "name": "stdout",
     "output_type": "stream",
     "text": [
      "La superficie del cuadrado es: \n",
      "121\n"
     ]
    }
   ],
   "source": [
    "lado=int(input(\"Ingrese la medida del lado del cuadrado\"))\n",
    "superficie=(lado*lado)\n",
    "print(\"La superficie del cuadrado es: \")\n",
    "print(superficie)\n"
   ]
  },
  {
   "cell_type": "markdown",
   "metadata": {},
   "source": [
    "Estructura de programación secuencial\n",
    "Cuando en un problema sólo participan operaciones, entradas y salidas se la denomina una estructura secuencial.\n",
    "Los problemas diagramados y codificados previamente emplean solo estructuras secuenciales.\n",
    "\n",
    "PROBLEMA 2\n",
    "Realizar la carga de dos números enteros por teclado e imprimir su suma y su producto."
   ]
  },
  {
   "cell_type": "code",
   "execution_count": 5,
   "metadata": {},
   "outputs": [
    {
     "name": "stdout",
     "output_type": "stream",
     "text": [
      "La suma de ambos valore es: \n",
      "5\n",
      "El producto de ambos valores es: \n",
      "6\n"
     ]
    }
   ],
   "source": [
    "num1=int(input(\"Ingrese primer valor\"))\n",
    "num2=int(input(\"Ingrese segundo valor\"))\n",
    "suma=num1+num2\n",
    "producto=num1*num2\n",
    "print(\"La suma de ambos valores es: \")\n",
    "print(suma)\n",
    "print(\"El producto de ambos valores es: \")\n",
    "print(producto)\n",
    "\n"
   ]
  },
  {
   "cell_type": "markdown",
   "metadata": {},
   "source": [
    "PROBLEMA 3\n",
    "Realizar la carga del precio de un producto y la cantidad a llevar. Mostrar cuanto se debe pagar (se ingresa un valor entero en el precio del producto)"
   ]
  },
  {
   "cell_type": "code",
   "execution_count": 8,
   "metadata": {},
   "outputs": [
    {
     "name": "stdout",
     "output_type": "stream",
     "text": [
      "El importe total es: \n",
      "170\n"
     ]
    }
   ],
   "source": [
    "precio=int(input(\"Ingrese el valor del producto\"))\n",
    "cantidad=int(input(\"Ingrese la cantidad de productos\"))\n",
    "importe=precio*cantidad\n",
    "print(\"El importe total es: \")\n",
    "print(importe)"
   ]
  },
  {
   "cell_type": "markdown",
   "metadata": {},
   "source": [
    "PROBLEMA 4\n",
    "Realizar la carga del lado de un cuadrado, mostrar por pantalla el perímetro del mismo (El perímetro de un cuadrado se calcula multiplicando el valor del lado por cuatro)"
   ]
  },
  {
   "cell_type": "code",
   "execution_count": 11,
   "metadata": {},
   "outputs": [
    {
     "name": "stdout",
     "output_type": "stream",
     "text": [
      "El perímetro del cuadrado es: \n",
      "9368\n"
     ]
    }
   ],
   "source": [
    "lado=int(input(\"Ingrese el lado de un cuadrado\"))\n",
    "perímetro=lado*4\n",
    "print(\"El perímetro del cuadrado es: \")\n",
    "print(perímetro)"
   ]
  },
  {
   "cell_type": "markdown",
   "metadata": {},
   "source": [
    "PROBLEMA 5\n",
    "Escribir un programa en el cual se ingresen cuatro números, calcular e informar la suma de los dos primeros y el producto del tercero y el cuarto."
   ]
  },
  {
   "cell_type": "code",
   "execution_count": 12,
   "metadata": {},
   "outputs": [
    {
     "name": "stdout",
     "output_type": "stream",
     "text": [
      "La suma de los dos primeros es de: \n",
      "3\n",
      "El prodcuto de los dos ultimos es: \n",
      "12\n"
     ]
    }
   ],
   "source": [
    "num1=int(input(\"Ingrese primer numero\"))\n",
    "num2=int(input(\"Ingrese segundo numero\"))\n",
    "num3=int(input(\"Ingrese tercer numero\"))\n",
    "num4=int(input(\"Ingrese cuarto numero\"))\n",
    "suma=num1+num2\n",
    "producto=num3*num4\n",
    "print(\"La suma de los dos primeros es de: \")\n",
    "print(suma)\n",
    "print(\"El prodcuto de los dos ultimos es: \")\n",
    "print(producto)"
   ]
  },
  {
   "cell_type": "markdown",
   "metadata": {},
   "source": [
    "PROBLEMA 6\n",
    "Realizar un programa que lea cuatro valores numéricos e informar su suma y promedio."
   ]
  },
  {
   "cell_type": "code",
   "execution_count": 1,
   "metadata": {},
   "outputs": [
    {
     "name": "stdout",
     "output_type": "stream",
     "text": [
      "Las suma de todos los valores es:  16\n",
      "El promedio de los valores es:  4.0\n"
     ]
    }
   ],
   "source": [
    "valor1=int(input(\"Ingrese primer valor\"))\n",
    "valor2=int(input(\"Ingrese segundo valor\"))\n",
    "valor3=int(input(\"Ingrese tercer valor\"))\n",
    "valor4=int(input(\"Ingrese cuarto valor\"))\n",
    "suma=valor1+valor2+valor3+valor4\n",
    "promedio=suma/4\n",
    "print(\"Las suma de todos los valores es: \", suma)\n",
    "print(\"El promedio de los valores es: \", promedio)"
   ]
  },
  {
   "cell_type": "markdown",
   "metadata": {},
   "source": [
    "PROBLEMA 7\n",
    "Calcular el sueldo mensual de un operario conociendo la cantidad de horas trabajadas y el valor por hora."
   ]
  },
  {
   "cell_type": "code",
   "execution_count": 3,
   "metadata": {},
   "outputs": [
    {
     "name": "stdout",
     "output_type": "stream",
     "text": [
      "El sueldo mensual es de:  101500 pesos\n"
     ]
    }
   ],
   "source": [
    "horas_trabajadas=int(input(\"Ingrese la cantidad de horas trabajadas\"))\n",
    "valor_hora=int(input(\"Ingrese el valor de la hora\"))\n",
    "sueldo=horas_trabajadas*valor_hora\n",
    "print(\"El sueldo mensual es de: \", sueldo,\"pesos\")"
   ]
  },
  {
   "cell_type": "markdown",
   "metadata": {},
   "source": [
    "Estructura condicional simple.\n",
    "Cuando se presenta la elección tenemos la opción de realizar una actividad o no realizar ninguna. Representación gráfica de una estructura condicional a utilizar en un diagrama de flujo. El rombo representa la condición. Hay dos opciones que se pueden tomar. Si la condición da verdadera se sigue el camino del verdadero, o sea el de la derecha, si la condición da falsa se sigue el camino de la izquierda donde no hay ninguna actividad.\n",
    "Se trata de una estructura CONDICIONAL SIMPLE porque por el camino del verdadero hay actividades y por el camino del falso no hay actividades.\n",
    "Por el camino del verdadero pueden existir varias operaciones, entradas y salidas, inclusive ya veremos que puede haber otras estructuras condicionales.\n",
    "\n",
    "PROBLEMA 8\n",
    "Ingresar el sueldo de una persona, si supera los 3000 dolares mostrar un mensaje en pantalla indicando que debe abonar impuestos."
   ]
  },
  {
   "cell_type": "code",
   "execution_count": 8,
   "metadata": {},
   "outputs": [
    {
     "name": "stdout",
     "output_type": "stream",
     "text": [
      "Esta persona debe pagar impuestos.\n",
      "Fin del programa.\n"
     ]
    }
   ],
   "source": [
    "sueldo=int(input(\"Ingrese su sueldo\"))\n",
    "if sueldo>3000:\n",
    "    print(\"Esta persona debe pagar impuestos.\")\n",
    "print(\"Fin del programa.\")"
   ]
  },
  {
   "cell_type": "markdown",
   "metadata": {},
   "source": [
    "PROBLEMA 9\n",
    "Realizar un programa que solicite ingresar dos números distintos y muestre por pantalla el mayor de ellos."
   ]
  },
  {
   "cell_type": "code",
   "execution_count": 14,
   "metadata": {},
   "outputs": [
    {
     "name": "stdout",
     "output_type": "stream",
     "text": [
      "55\n"
     ]
    }
   ],
   "source": [
    "num1=int(input(\"Ingrese primer valor\"))\n",
    "num2=int(input(\"Ingrese segundo valor\"))\n",
    "if num1>num2:\n",
    "    print(num1)\n",
    "else:\n",
    "    print(num2)"
   ]
  },
  {
   "cell_type": "markdown",
   "metadata": {},
   "source": [
    "PROBLEMA 10\n",
    "\n",
    "Realizar un programa que solicite la carga por teclado de dos números, si el primero es mayor al segundo informar su suma y diferencia, en caso contrario informar el producto y la división del primero respecto al segundo."
   ]
  },
  {
   "cell_type": "code",
   "execution_count": 17,
   "metadata": {},
   "outputs": [
    {
     "name": "stdout",
     "output_type": "stream",
     "text": [
      "El producto entre los valores es de:  50 y la division es de:  0.5\n"
     ]
    }
   ],
   "source": [
    "num1=int(input(\"Ingrese primer valor\"))\n",
    "num2=int(input(\"Ingrese segundo valor\"))\n",
    "if num1>num2:\n",
    "    suma=num1+num2\n",
    "    resta=num1-num2\n",
    "    print(\"La suma de los valores es de \",suma,\"y la resta entre ellos es \",resta)\n",
    "else:\n",
    "    producto=num1*num2\n",
    "    division=num1/num2\n",
    "    print(\"El producto entre los valores es de: \",producto,\"y la division es de: \",division)"
   ]
  },
  {
   "cell_type": "markdown",
   "metadata": {},
   "source": [
    "PROBLEMA 11\n",
    "Se ingresan tres notas de un alumno, si el promedio es mayor o igual a siete mostrar un mensaje \"Promocionado\""
   ]
  },
  {
   "cell_type": "code",
   "execution_count": 23,
   "metadata": {},
   "outputs": [
    {
     "name": "stdout",
     "output_type": "stream",
     "text": [
      "Promocionado\n"
     ]
    }
   ],
   "source": [
    "nota1=int(input(\"Ingrese nota 1\"))\n",
    "nota2=int(input(\"Ingrese nota 2\"))\n",
    "nota3=int(input(\"Ingrese nota 3\"))\n",
    "promedio=(nota1+nota2+nota3)/3\n",
    "if promedio>=7:\n",
    "    print(\"Promocionado\")\n",
    "else:\n",
    "    print(\"Siga participando xd\")"
   ]
  },
  {
   "cell_type": "markdown",
   "metadata": {},
   "source": [
    "PROBLEMA 12\n",
    "\n",
    "Se ingresa por teclado un número positivo de uno o dos dígitos (1..99) mostrar un mensaje indicando si el número tiene uno o dos dígitos.\n",
    "(Tener en cuenta que condición debe cumplirse para tener dos dígitos un número entero)"
   ]
  },
  {
   "cell_type": "code",
   "execution_count": 2,
   "metadata": {},
   "outputs": [
    {
     "name": "stdout",
     "output_type": "stream",
     "text": [
      "El número  3 tiene 1 dígito.\n"
     ]
    }
   ],
   "source": [
    "valor=int(input(\"Ingrese un valor del 1 al 99\"))\n",
    "if valor>=10:\n",
    "    print(\"El número \", valor,\"tiene 2 dígitos.\")\n",
    "else:\n",
    "    print(\"El número \",valor,\"tiene 1 dígito.\")"
   ]
  }
 ],
 "metadata": {
  "kernelspec": {
   "display_name": "Python 3",
   "language": "python",
   "name": "python3"
  },
  "language_info": {
   "codemirror_mode": {
    "name": "ipython",
    "version": 3
   },
   "file_extension": ".py",
   "mimetype": "text/x-python",
   "name": "python",
   "nbconvert_exporter": "python",
   "pygments_lexer": "ipython3",
   "version": "3.11.4"
  }
 },
 "nbformat": 4,
 "nbformat_minor": 2
}
