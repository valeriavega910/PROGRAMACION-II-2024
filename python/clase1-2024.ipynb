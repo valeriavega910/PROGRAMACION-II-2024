{
 "cells": [
  {
   "cell_type": "code",
   "execution_count": 205,
   "metadata": {},
   "outputs": [
    {
     "name": "stdout",
     "output_type": "stream",
     "text": [
      "['Santa Cruz', 'Misiones', 'Tucuman', 'San Luis', 'Buenos Aires']\n"
     ]
    }
   ],
   "source": [
    "provincias = ['Santa Cruz', 'Misiones', 'Tucuman','San Luis', 'Buenos Aires']\n",
    "print(provincias)"
   ]
  },
  {
   "cell_type": "code",
   "execution_count": 206,
   "metadata": {},
   "outputs": [
    {
     "name": "stdout",
     "output_type": "stream",
     "text": [
      "Tucuman\n"
     ]
    }
   ],
   "source": [
    "provincias = ['Santa Cruz', 'Misiones', 'Tucuman','San Luis', 'Buenos Aires']\n",
    "elemento = provincias[2]\n",
    "print(elemento)"
   ]
  },
  {
   "cell_type": "code",
   "execution_count": 207,
   "metadata": {},
   "outputs": [
    {
     "name": "stdout",
     "output_type": "stream",
     "text": [
      "['Misiones', 'Tucuman', 'San Luis']\n"
     ]
    }
   ],
   "source": [
    "lista2 = provincias[1:4]\n",
    "print(lista2)\n"
   ]
  },
  {
   "cell_type": "code",
   "execution_count": 208,
   "metadata": {},
   "outputs": [
    {
     "name": "stdout",
     "output_type": "stream",
     "text": [
      "<class 'list'>\n"
     ]
    }
   ],
   "source": [
    "tipo_de_dato =type(provincias)\n",
    "print(tipo_de_dato)"
   ]
  },
  {
   "cell_type": "code",
   "execution_count": 209,
   "metadata": {},
   "outputs": [
    {
     "name": "stdout",
     "output_type": "stream",
     "text": [
      "['Santa Cruz', 'Misiones', 'Tucuman', 'San Luis']\n"
     ]
    }
   ],
   "source": [
    "lista3 = provincias[:4]\n",
    "print(lista3)"
   ]
  },
  {
   "cell_type": "code",
   "execution_count": 210,
   "metadata": {},
   "outputs": [
    {
     "name": "stdout",
     "output_type": "stream",
     "text": [
      "['Santa Cruz', 'Misiones', 'Tucuman', 'San Luis', 'Buenos Aires', 'San Luis']\n"
     ]
    }
   ],
   "source": [
    "provincias.append('San Luis')\n",
    "print(provincias)"
   ]
  },
  {
   "cell_type": "code",
   "execution_count": 211,
   "metadata": {},
   "outputs": [
    {
     "name": "stdout",
     "output_type": "stream",
     "text": [
      "['Santa Cruz', 'Misiones', 'Tucuman', 'San Luis', 'Buenos Aires', 'San Luis', 'Catamarca']\n"
     ]
    }
   ],
   "source": [
    "provincias.append('Catamarca')\n",
    "print(provincias)"
   ]
  },
  {
   "cell_type": "code",
   "execution_count": 212,
   "metadata": {},
   "outputs": [
    {
     "name": "stdout",
     "output_type": "stream",
     "text": [
      "['Santa Cruz', 'Misiones', 'Tucuman', 'Formosa', 'San Luis', 'Buenos Aires', 'San Luis', 'Catamarca']\n"
     ]
    }
   ],
   "source": [
    "provincias.insert(3,'Formosa')\n",
    "print(provincias)\n"
   ]
  },
  {
   "cell_type": "code",
   "execution_count": 213,
   "metadata": {},
   "outputs": [
    {
     "name": "stdout",
     "output_type": "stream",
     "text": [
      "['Santa Cruz', 'Misiones', 'Tucuman', 'Formosa', 'San Luis', 'Buenos Aires', 'San Luis', 'Catamarca', 'Rosario', 'Río Grande', 'San Fernando']\n"
     ]
    }
   ],
   "source": [
    "ciudades = ['Rosario','Río Grande','San Fernando']\n",
    "provincias.extend(ciudades)\n",
    "print(provincias)"
   ]
  },
  {
   "cell_type": "code",
   "execution_count": 214,
   "metadata": {},
   "outputs": [
    {
     "name": "stdout",
     "output_type": "stream",
     "text": [
      "San Fernando\n"
     ]
    }
   ],
   "source": [
    "print(provincias.pop())"
   ]
  },
  {
   "cell_type": "code",
   "execution_count": 215,
   "metadata": {},
   "outputs": [
    {
     "name": "stdout",
     "output_type": "stream",
     "text": [
      "['Santa Cruz', 'Misiones', 'Formosa', 'San Luis', 'Buenos Aires', 'San Luis', 'Catamarca', 'Rosario', 'Río Grande']\n"
     ]
    }
   ],
   "source": [
    "provincias.remove('Tucuman')\n",
    "print(provincias)"
   ]
  },
  {
   "cell_type": "code",
   "execution_count": 216,
   "metadata": {},
   "outputs": [
    {
     "name": "stdout",
     "output_type": "stream",
     "text": [
      "9\n"
     ]
    }
   ],
   "source": [
    "largo_lista = len(provincias)\n",
    "print(largo_lista)"
   ]
  },
  {
   "cell_type": "code",
   "execution_count": 217,
   "metadata": {},
   "outputs": [
    {
     "name": "stdout",
     "output_type": "stream",
     "text": [
      "Río Grande\n"
     ]
    }
   ],
   "source": [
    "ultimo_valor= provincias[largo_lista-1]\n",
    "print(ultimo_valor)"
   ]
  },
  {
   "cell_type": "markdown",
   "metadata": {},
   "source": [
    "Crear una tupla que contenga los números enteros del 1 al 20"
   ]
  },
  {
   "cell_type": "code",
   "execution_count": 2,
   "metadata": {},
   "outputs": [
    {
     "name": "stdout",
     "output_type": "stream",
     "text": [
      "(1, 2, 3, 4, 5, 6, 7, 8, 9, 10, 11, 12, 13, 14, 15, 16, 17, 18, 19, 20)\n"
     ]
    }
   ],
   "source": [
    "tupla1 = tuple(range(1,21))\n",
    "print(tupla1)\n"
   ]
  },
  {
   "cell_type": "markdown",
   "metadata": {},
   "source": [
    "Imprimir desde el índice 10 al 15 de la tupla"
   ]
  },
  {
   "cell_type": "code",
   "execution_count": 63,
   "metadata": {},
   "outputs": [
    {
     "name": "stdout",
     "output_type": "stream",
     "text": [
      "(11, 12, 13, 14, 15, 16)\n"
     ]
    }
   ],
   "source": [
    "tupla1 = tuple(range(1,21))\n",
    "print(tupla1[10:16])"
   ]
  },
  {
   "cell_type": "markdown",
   "metadata": {},
   "source": [
    "Mostrar la cantidad de veces que se encuentra un elemento específico dentro de la tupla y de la lista (utilizar count)"
   ]
  },
  {
   "cell_type": "code",
   "execution_count": 72,
   "metadata": {},
   "outputs": [
    {
     "name": "stdout",
     "output_type": "stream",
     "text": [
      "El numero buscado es la tupla es 2 y se repite 1 veces\n"
     ]
    }
   ],
   "source": [
    "tupla_1=(1,2,3,4,5)\n",
    "numero_buscado=2\n",
    "print(\"El numero buscado es la tupla es\", numero_buscado,\"y se repite\", tupla_1.count(2),\"veces\")"
   ]
  },
  {
   "cell_type": "markdown",
   "metadata": {},
   "source": [
    "Convertir la tupla en una lista"
   ]
  },
  {
   "cell_type": "code",
   "execution_count": 79,
   "metadata": {},
   "outputs": [
    {
     "name": "stdout",
     "output_type": "stream",
     "text": [
      "La tupla convertida a lista es:  [10, 10, 13, 11, 11, 16]\n"
     ]
    }
   ],
   "source": [
    "tupla2 = (10,10,13,11,11,16)\n",
    "lista = list(tupla2)\n",
    "print(\"La tupla convertida a lista es: \", lista)"
   ]
  },
  {
   "cell_type": "markdown",
   "metadata": {},
   "source": [
    "Desempaquetar solo los primeros 3 elementos de la tupla en 3 variables"
   ]
  },
  {
   "cell_type": "code",
   "execution_count": 4,
   "metadata": {},
   "outputs": [
    {
     "name": "stdout",
     "output_type": "stream",
     "text": [
      "1\n",
      "2\n",
      "3\n"
     ]
    }
   ],
   "source": [
    "tupla_5=(1,2,3,4,5,6,7,8,9,10,11,12,13,14,15,16,17,18,19,20)\n",
    "a, b, c, = tupla_5[:3]\n",
    "print(a)\n",
    "print(b)\n",
    "print(c)"
   ]
  },
  {
   "cell_type": "code",
   "execution_count": 3,
   "metadata": {},
   "outputs": [
    {
     "name": "stdout",
     "output_type": "stream",
     "text": [
      "num1:1, num2:2, num3:3\n"
     ]
    }
   ],
   "source": [
    "tupla_5=(1,2,3,4,5,6,7,8,9,10,11,12,13,14,15,16,17,18,19,20)\n",
    "num1,num2,num3,*_ =tupla_5\n",
    "print(f\"num1:{1}, num2:{2}, num3:{3}\")"
   ]
  },
  {
   "cell_type": "markdown",
   "metadata": {},
   "source": [
    "Crear un diccionario que contenga nombre, edad y carrera de un\n",
    "alumno y mostrar el diccionario completo"
   ]
  },
  {
   "cell_type": "code",
   "execution_count": 107,
   "metadata": {},
   "outputs": [
    {
     "name": "stdout",
     "output_type": "stream",
     "text": [
      "{'nombre': 'Valeria', 'edad': 41, 'carrera': 'Tec. Cs de Datos e IA'}\n"
     ]
    }
   ],
   "source": [
    "alumna = {\n",
    "    \"nombre\": \"Valeria\", \n",
    "    \"edad\": 41,\n",
    "    \"carrera\": \"Tec. Cs de Datos e IA\"\n",
    "}\n",
    "\n",
    "print(alumna)"
   ]
  },
  {
   "cell_type": "markdown",
   "metadata": {},
   "source": [
    "Utilizar el método get para mostrar el valor de la clave nombre."
   ]
  },
  {
   "cell_type": "code",
   "execution_count": 133,
   "metadata": {},
   "outputs": [
    {
     "name": "stdout",
     "output_type": "stream",
     "text": [
      "El nombre del alumno es Valeria\n"
     ]
    }
   ],
   "source": [
    "alumna = {\n",
    "    \"nombre\": \"Valeria\", \n",
    "    \"edad\": 41,\n",
    "    \"carrera\": \"Tec. Cs de Datos e IA\"\n",
    "}\n",
    "\n",
    "print(\"El nombre del alumno es\", alumna.get(\"nombre\"))"
   ]
  },
  {
   "cell_type": "markdown",
   "metadata": {},
   "source": [
    "Cambiar la edad del alumno y mostrar el diccionario completo.\n",
    "\n"
   ]
  },
  {
   "cell_type": "code",
   "execution_count": 134,
   "metadata": {},
   "outputs": [
    {
     "name": "stdout",
     "output_type": "stream",
     "text": [
      "{'nombre': 'Valeria', 'edad': 25, 'carrera': 'Tec. Cs de Datos e IA'}\n"
     ]
    }
   ],
   "source": [
    "alumna[\"edad\"] = 25\n",
    "print(alumna)"
   ]
  },
  {
   "cell_type": "markdown",
   "metadata": {},
   "source": [
    "Agrear un par clave valor que contenga el sexo del alumno. Mostrar\n",
    "el diccionario completo."
   ]
  },
  {
   "cell_type": "code",
   "execution_count": 135,
   "metadata": {},
   "outputs": [
    {
     "name": "stdout",
     "output_type": "stream",
     "text": [
      "{'nombre': 'Valeria', 'edad': 41, 'carrera': 'Tec. Cs de Datos e IA', 'sexo': 'Femenino'}\n"
     ]
    }
   ],
   "source": [
    "alumna = {\n",
    "    \"nombre\": \"Valeria\", \n",
    "    \"edad\": 41,\n",
    "    \"carrera\": \"Tec. Cs de Datos e IA\"\n",
    "}\n",
    "alumna[\"sexo\"] = \"Femenino\"\n",
    "print(alumna)"
   ]
  },
  {
   "cell_type": "markdown",
   "metadata": {},
   "source": [
    "Usar el método pop() para remover la edad del alumno. Mostrar el\n",
    "diccionario completo."
   ]
  },
  {
   "cell_type": "code",
   "execution_count": 136,
   "metadata": {},
   "outputs": [
    {
     "name": "stdout",
     "output_type": "stream",
     "text": [
      "{'nombre': 'Valeria', 'carrera': 'Tec. Cs de Datos e IA', 'sexo': 'Femenino'}\n"
     ]
    }
   ],
   "source": [
    "alumna.pop(\"edad\")\n",
    "print(alumna)"
   ]
  },
  {
   "cell_type": "markdown",
   "metadata": {},
   "source": [
    "Crear un diccionario que contenga las notas de un alumno en tres\n",
    "materias. Las materias son programación II, ciencia de datos,\n",
    "programación I."
   ]
  },
  {
   "cell_type": "code",
   "execution_count": 140,
   "metadata": {},
   "outputs": [
    {
     "name": "stdout",
     "output_type": "stream",
     "text": [
      "Las notas de la alumna son:  {'PROGRAMACION II': 7, 'CIENCIA DE DATOS': 8, 'PROGRAMACIÓN I': 9}\n"
     ]
    }
   ],
   "source": [
    "notas_alumna = {\n",
    "    \"PROGRAMACION II\": 7,\n",
    "    \"CIENCIA DE DATOS\": 8,\n",
    "    \"PROGRAMACIÓN I\": 9\n",
    "}\n",
    "print(\"Las notas de la alumna son: \", notas_alumna)"
   ]
  },
  {
   "cell_type": "markdown",
   "metadata": {},
   "source": [
    "Mostrar todos los ítems del diccionario de notas."
   ]
  },
  {
   "cell_type": "code",
   "execution_count": 141,
   "metadata": {},
   "outputs": [
    {
     "name": "stdout",
     "output_type": "stream",
     "text": [
      "PROGRAMACION II:7\n",
      "CIENCIA DE DATOS:8\n",
      "PROGRAMACIÓN I:9\n"
     ]
    }
   ],
   "source": [
    "items=notas_alumna.items()\n",
    "for clave,valor in items:\n",
    "    print(f\"{clave}:{valor}\")"
   ]
  },
  {
   "cell_type": "code",
   "execution_count": 143,
   "metadata": {},
   "outputs": [
    {
     "name": "stdout",
     "output_type": "stream",
     "text": [
      "dict_items([('PROGRAMACION II', 7), ('CIENCIA DE DATOS', 8), ('PROGRAMACIÓN I', 9)])\n"
     ]
    }
   ],
   "source": [
    "print(notas_alumna.items())"
   ]
  },
  {
   "cell_type": "markdown",
   "metadata": {},
   "source": [
    "Crear un nuevo diccionario que sea una copia del diccionario de\n",
    "notas del alumno. Mostrar los datos del nuevo diccionario."
   ]
  },
  {
   "cell_type": "code",
   "execution_count": 150,
   "metadata": {},
   "outputs": [
    {
     "name": "stdout",
     "output_type": "stream",
     "text": [
      "{'PROGRAMACION II': 7, 'CIENCIA DE DATOS': 8, 'PROGRAMACIÓN I': 9}\n",
      "{'PROGRAMACION II': 7, 'CIENCIA DE DATOS': 8, 'PROGRAMACIÓN I': 9}\n"
     ]
    }
   ],
   "source": [
    "copia_notas= notas_alumna.copy()\n",
    "print(copia_notas)\n",
    "print(notas_alumna)"
   ]
  },
  {
   "cell_type": "markdown",
   "metadata": {},
   "source": [
    "Mostrar los valores del diccionario de notas."
   ]
  },
  {
   "cell_type": "code",
   "execution_count": 152,
   "metadata": {},
   "outputs": [
    {
     "data": {
      "text/plain": [
       "dict_values([7, 8, 9])"
      ]
     },
     "execution_count": 152,
     "metadata": {},
     "output_type": "execute_result"
    }
   ],
   "source": [
    "notas_alumna.values()"
   ]
  },
  {
   "cell_type": "markdown",
   "metadata": {},
   "source": [
    "Mostrar la longitud del diccionario de notas."
   ]
  },
  {
   "cell_type": "code",
   "execution_count": 155,
   "metadata": {},
   "outputs": [
    {
     "name": "stdout",
     "output_type": "stream",
     "text": [
      "3\n"
     ]
    }
   ],
   "source": [
    "longitud=len(notas_alumna)\n",
    "print(longitud)"
   ]
  },
  {
   "cell_type": "code",
   "execution_count": 156,
   "metadata": {},
   "outputs": [
    {
     "data": {
      "text/plain": [
       "dict_keys(['PROGRAMACION II', 'CIENCIA DE DATOS', 'PROGRAMACIÓN I'])"
      ]
     },
     "execution_count": 156,
     "metadata": {},
     "output_type": "execute_result"
    }
   ],
   "source": [
    "notas_alumna.keys()"
   ]
  },
  {
   "cell_type": "code",
   "execution_count": 157,
   "metadata": {},
   "outputs": [
    {
     "data": {
      "text/plain": [
       "dict_keys(['nombre', 'carrera', 'sexo'])"
      ]
     },
     "execution_count": 157,
     "metadata": {},
     "output_type": "execute_result"
    }
   ],
   "source": [
    "alumna.keys()"
   ]
  },
  {
   "cell_type": "code",
   "execution_count": 158,
   "metadata": {},
   "outputs": [
    {
     "name": "stdout",
     "output_type": "stream",
     "text": [
      "15\n"
     ]
    }
   ],
   "source": [
    "print(len(\"Valeria Soledad\"))"
   ]
  }
 ],
 "metadata": {
  "kernelspec": {
   "display_name": "Python 3",
   "language": "python",
   "name": "python3"
  },
  "language_info": {
   "codemirror_mode": {
    "name": "ipython",
    "version": 3
   },
   "file_extension": ".py",
   "mimetype": "text/x-python",
   "name": "python",
   "nbconvert_exporter": "python",
   "pygments_lexer": "ipython3",
   "version": "3.11.4"
  }
 },
 "nbformat": 4,
 "nbformat_minor": 2
}
