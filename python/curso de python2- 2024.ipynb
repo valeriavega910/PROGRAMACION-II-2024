{
 "cells": [
  {
   "cell_type": "markdown",
   "metadata": {},
   "source": [
    "Estructuras condicionales anidadas.\n",
    "Estamos en presencia de una estructura condicional anidada cuando por la rama del verdadero o el falso de una estructura condicional hay otra estructura condicional."
   ]
  },
  {
   "cell_type": "markdown",
   "metadata": {},
   "source": [
    "PROBLEMA 13\n",
    "\n",
    "Confeccionar un programa que pida por teclado tres notas de un alumno, calcule el promedio e imprima alguno de estos mensajes:\n",
    "Si el promedio es >=7 mostrar \"Promocionado\".\n",
    "Si el promedio es >=4 y <7 mostrar \"Regular\".\n",
    "Si el promedio es <4 mostrar \"Reprobado\"."
   ]
  },
  {
   "cell_type": "code",
   "execution_count": 3,
   "metadata": {},
   "outputs": [
    {
     "name": "stdout",
     "output_type": "stream",
     "text": [
      "Reprobado\n"
     ]
    }
   ],
   "source": [
    "nota1=int(input(\"Ingrese nota 1\"))\n",
    "nota2=int(input(\"Ingrese nota 2\"))\n",
    "nota3=int(input(\"Ingrese nota 3\"))\n",
    "promedio=(nota1+nota2+nota3)/3\n",
    "if promedio>=7:\n",
    "    print(\"Promocionado\")\n",
    "else:\n",
    "    if promedio>>=4:\n",
    "        print(\"Regular\")\n",
    "    else:\n",
    "        print(\"Reprobado\")\n"
   ]
  },
  {
   "cell_type": "code",
   "execution_count": null,
   "metadata": {},
   "outputs": [],
   "source": [
    "PROBLEMA 14\n",
    "Se cargan por teclado tres números distintos. Mostrar por pantalla el mayor de ellos."
   ]
  },
  {
   "cell_type": "code",
   "execution_count": 2,
   "metadata": {},
   "outputs": [
    {
     "name": "stdout",
     "output_type": "stream",
     "text": [
      "El valor mayor de los 3 numeros ingresados es el: \n",
      "67\n"
     ]
    }
   ],
   "source": [
    "num1=int(input(\"Escribe un numero\"))\n",
    "num2=int(input(\"Escribe otro numero diferente al primero\"))\n",
    "num3=int(input(\"Escribe otro numero diferente al primero y al segundo\"))\n",
    "print(\"El valor mayor de los 3 numeros ingresados es el: \")\n",
    "if num1>num2:\n",
    "    if num1>num3:\n",
    "        print(num1)\n",
    "    else:\n",
    "        print(num3)\n",
    "else:\n",
    "    if num2>num3:\n",
    "        print(num2)\n",
    "    else:\n",
    "        print(num3)"
   ]
  },
  {
   "cell_type": "markdown",
   "metadata": {},
   "source": [
    "PROBLEMA 15\n",
    "Se ingresa por teclado un valor entero, mostrar una leyenda que indique si el número es positivo, negativo o nulo (es decir cero)"
   ]
  },
  {
   "cell_type": "code",
   "execution_count": 9,
   "metadata": {},
   "outputs": [
    {
     "name": "stdout",
     "output_type": "stream",
     "text": [
      "El valor es negativo\n"
     ]
    }
   ],
   "source": [
    "valor=int(input(\"INgrese un valor\"))\n",
    "if valor>0:\n",
    "    print(\"El valor es positivo\")\n",
    "else:\n",
    "    if valor==0:\n",
    "        print(\"El valor es nulo\")\n",
    "    else:\n",
    "        print(\"El valor es negativo\")"
   ]
  },
  {
   "cell_type": "code",
   "execution_count": 12,
   "metadata": {},
   "outputs": [
    {
     "name": "stdout",
     "output_type": "stream",
     "text": [
      "El numero es positivo\n"
     ]
    }
   ],
   "source": [
    "valor=int(input(\"Ingrese un valor\"))\n",
    "if valor==0:\n",
    "    print(\"El valor es nulo\")\n",
    "else:\n",
    "    if valor>0:\n",
    "        print(\"El numero es positivo\")\n",
    "    else:\n",
    "        print(\"El numero es negativo\")"
   ]
  },
  {
   "cell_type": "markdown",
   "metadata": {},
   "source": [
    "PROBLEMA 16\n",
    "Confeccionar un programa que permita cargar un número entero positivo de hasta tres cifras y muestre un mensaje indicando si tiene 1, 2, o 3 cifras. Mostrar un mensaje de error si el número de cifras es mayor."
   ]
  },
  {
   "cell_type": "code",
   "execution_count": 21,
   "metadata": {},
   "outputs": [
    {
     "name": "stdout",
     "output_type": "stream",
     "text": [
      "El numero tiene 2 digitos\n"
     ]
    }
   ],
   "source": [
    "numero=int(input(\"Ingrese un numero positivo entre el 1 y el 999\"))\n",
    "if numero<100:\n",
    "    if numero<10:\n",
    "        print(\"El numero tiene 1 digito\")\n",
    "    else:\n",
    "        print(\"El numero tiene 2 digitos\")\n",
    "else:\n",
    "    if numero<1000:\n",
    "        print(\"El numero tiene 3 digitos\")\n",
    "    else:\n",
    "        print(\"Error\")\n"
   ]
  },
  {
   "cell_type": "code",
   "execution_count": 25,
   "metadata": {},
   "outputs": [
    {
     "name": "stdout",
     "output_type": "stream",
     "text": [
      "Error\n"
     ]
    }
   ],
   "source": [
    "num=int(input(\"Ingrese un numero  positivo entre el 1 y el 999\"))\n",
    "if num<10:\n",
    "    print(\"Tiene 1 digito\")\n",
    "else:\n",
    "    if num<100:\n",
    "        print(\"Tiene 2 digitos\")\n",
    "    else:\n",
    "        if num<1000:\n",
    "            print(\"Tiene 3 digitos\")\n",
    "        else:\n",
    "            print(\"Error\")"
   ]
  },
  {
   "cell_type": "markdown",
   "metadata": {},
   "source": [
    "PROBLEMA 17\n",
    "\n",
    "Un postulante a un empleo, realiza un test de capacitación, se obtuvo la siguiente información: cantidad total de preguntas que se le realizaron y la cantidad de preguntas que contestó correctamente. Se pide confeccionar un programa que ingrese los dos datos por teclado e informe el nivel del mismo según el porcentaje de respuestas correctas que ha obtenido, y sabiendo que:\n",
    "\tNivel máximo:\tPorcentaje>=90%.\n",
    "\tNivel medio:\tPorcentaje>=75% y <90%.\n",
    "\tNivel regular:\tPorcentaje>=50% y <75%.\n",
    "\tFuera de nivel:\tPorcentaje<50%."
   ]
  },
  {
   "cell_type": "code",
   "execution_count": 7,
   "metadata": {},
   "outputs": [
    {
     "name": "stdout",
     "output_type": "stream",
     "text": [
      "Fuera de Nivel\n"
     ]
    }
   ],
   "source": [
    "total_preguntas=int(input(\"Ingrese la cantidad de preguntas\"))\n",
    "total_correctas=int(input(\"Ingrese la cantidad de respuestas correctas\"))\n",
    "nivel=(total_correctas*100)/total_preguntas\n",
    "if nivel>=90:\n",
    "    print(\"Nivel Máximo\")\n",
    "else:\n",
    "    if nivel>=75:\n",
    "        print(\"Nivel Medio\")\n",
    "    else:\n",
    "        if nivel>=50:\n",
    "            print(\"Nivel Regular\")\n",
    "        else:\n",
    "            print(\"Fuera de Nivel\")"
   ]
  }
 ],
 "metadata": {
  "kernelspec": {
   "display_name": "Python 3",
   "language": "python",
   "name": "python3"
  },
  "language_info": {
   "codemirror_mode": {
    "name": "ipython",
    "version": 3
   },
   "file_extension": ".py",
   "mimetype": "text/x-python",
   "name": "python",
   "nbconvert_exporter": "python",
   "pygments_lexer": "ipython3",
   "version": "3.11.4"
  }
 },
 "nbformat": 4,
 "nbformat_minor": 2
}
