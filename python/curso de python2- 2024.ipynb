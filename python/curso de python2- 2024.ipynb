{
 "cells": [
  {
   "cell_type": "markdown",
   "metadata": {},
   "source": [
    "Estructuras condicionales anidadas.\n",
    "Estamos en presencia de una estructura condicional anidada cuando por la rama del verdadero o el falso de una estructura condicional hay otra estructura condicional."
   ]
  },
  {
   "cell_type": "markdown",
   "metadata": {},
   "source": [
    "PROBLEMA 13\n",
    "\n",
    "Confeccionar un programa que pida por teclado tres notas de un alumno, calcule el promedio e imprima alguno de estos mensajes:\n",
    "Si el promedio es >=7 mostrar \"Promocionado\".\n",
    "Si el promedio es >=4 y <7 mostrar \"Regular\".\n",
    "Si el promedio es <4 mostrar \"Reprobado\"."
   ]
  },
  {
   "cell_type": "code",
   "execution_count": 3,
   "metadata": {},
   "outputs": [
    {
     "name": "stdout",
     "output_type": "stream",
     "text": [
      "Reprobado\n"
     ]
    }
   ],
   "source": [
    "nota1=int(input(\"Ingrese nota 1\"))\n",
    "nota2=int(input(\"Ingrese nota 2\"))\n",
    "nota3=int(input(\"Ingrese nota 3\"))\n",
    "promedio=(nota1+nota2+nota3)/3\n",
    "if promedio>=7:\n",
    "    print(\"Promocionado\")\n",
    "else:\n",
    "    if promedio>>=4:\n",
    "        print(\"Regular\")\n",
    "    else:\n",
    "        print(\"Reprobado\")\n"
   ]
  },
  {
   "cell_type": "code",
   "execution_count": null,
   "metadata": {},
   "outputs": [],
   "source": [
    "PROBLEMA 14\n",
    "Se cargan por teclado tres números distintos. Mostrar por pantalla el mayor de ellos."
   ]
  },
  {
   "cell_type": "code",
   "execution_count": 2,
   "metadata": {},
   "outputs": [
    {
     "name": "stdout",
     "output_type": "stream",
     "text": [
      "El valor mayor de los 3 numeros ingresados es el: \n",
      "67\n"
     ]
    }
   ],
   "source": [
    "num1=int(input(\"Escribe un numero\"))\n",
    "num2=int(input(\"Escribe otro numero diferente al primero\"))\n",
    "num3=int(input(\"Escribe otro numero diferente al primero y al segundo\"))\n",
    "print(\"El valor mayor de los 3 numeros ingresados es el: \")\n",
    "if num1>num2:\n",
    "    if num1>num3:\n",
    "        print(num1)\n",
    "    else:\n",
    "        print(num3)\n",
    "else:\n",
    "    if num2>num3:\n",
    "        print(num2)\n",
    "    else:\n",
    "        print(num3)"
   ]
  },
  {
   "cell_type": "markdown",
   "metadata": {},
   "source": [
    "PROBLEMA 15\n",
    "Se ingresa por teclado un valor entero, mostrar una leyenda que indique si el número es positivo, negativo o nulo (es decir cero)"
   ]
  },
  {
   "cell_type": "code",
   "execution_count": 9,
   "metadata": {},
   "outputs": [
    {
     "name": "stdout",
     "output_type": "stream",
     "text": [
      "El valor es negativo\n"
     ]
    }
   ],
   "source": [
    "valor=int(input(\"INgrese un valor\"))\n",
    "if valor>0:\n",
    "    print(\"El valor es positivo\")\n",
    "else:\n",
    "    if valor==0:\n",
    "        print(\"El valor es nulo\")\n",
    "    else:\n",
    "        print(\"El valor es negativo\")"
   ]
  },
  {
   "cell_type": "code",
   "execution_count": 12,
   "metadata": {},
   "outputs": [
    {
     "name": "stdout",
     "output_type": "stream",
     "text": [
      "El numero es positivo\n"
     ]
    }
   ],
   "source": [
    "valor=int(input(\"Ingrese un valor\"))\n",
    "if valor==0:\n",
    "    print(\"El valor es nulo\")\n",
    "else:\n",
    "    if valor>0:\n",
    "        print(\"El numero es positivo\")\n",
    "    else:\n",
    "        print(\"El numero es negativo\")"
   ]
  },
  {
   "cell_type": "markdown",
   "metadata": {},
   "source": [
    "PROBLEMA 16\n",
    "Confeccionar un programa que permita cargar un número entero positivo de hasta tres cifras y muestre un mensaje indicando si tiene 1, 2, o 3 cifras. Mostrar un mensaje de error si el número de cifras es mayor."
   ]
  },
  {
   "cell_type": "code",
   "execution_count": 21,
   "metadata": {},
   "outputs": [
    {
     "name": "stdout",
     "output_type": "stream",
     "text": [
      "El numero tiene 2 digitos\n"
     ]
    }
   ],
   "source": [
    "numero=int(input(\"Ingrese un numero positivo entre el 1 y el 999\"))\n",
    "if numero<100:\n",
    "    if numero<10:\n",
    "        print(\"El numero tiene 1 digito\")\n",
    "    else:\n",
    "        print(\"El numero tiene 2 digitos\")\n",
    "else:\n",
    "    if numero<1000:\n",
    "        print(\"El numero tiene 3 digitos\")\n",
    "    else:\n",
    "        print(\"Error\")\n"
   ]
  },
  {
   "cell_type": "code",
   "execution_count": 25,
   "metadata": {},
   "outputs": [
    {
     "name": "stdout",
     "output_type": "stream",
     "text": [
      "Error\n"
     ]
    }
   ],
   "source": [
    "num=int(input(\"Ingrese un numero  positivo entre el 1 y el 999\"))\n",
    "if num<10:\n",
    "    print(\"Tiene 1 digito\")\n",
    "else:\n",
    "    if num<100:\n",
    "        print(\"Tiene 2 digitos\")\n",
    "    else:\n",
    "        if num<1000:\n",
    "            print(\"Tiene 3 digitos\")\n",
    "        else:\n",
    "            print(\"Error\")"
   ]
  },
  {
   "cell_type": "markdown",
   "metadata": {},
   "source": [
    "PROBLEMA 17\n",
    "\n",
    "Un postulante a un empleo, realiza un test de capacitación, se obtuvo la siguiente información: cantidad total de preguntas que se le realizaron y la cantidad de preguntas que contestó correctamente. Se pide confeccionar un programa que ingrese los dos datos por teclado e informe el nivel del mismo según el porcentaje de respuestas correctas que ha obtenido, y sabiendo que:\n",
    "\tNivel máximo:\tPorcentaje>=90%.\n",
    "\tNivel medio:\tPorcentaje>=75% y <90%.\n",
    "\tNivel regular:\tPorcentaje>=50% y <75%.\n",
    "\tFuera de nivel:\tPorcentaje<50%."
   ]
  },
  {
   "cell_type": "code",
   "execution_count": 7,
   "metadata": {},
   "outputs": [
    {
     "name": "stdout",
     "output_type": "stream",
     "text": [
      "Fuera de Nivel\n"
     ]
    }
   ],
   "source": [
    "total_preguntas=int(input(\"Ingrese la cantidad de preguntas\"))\n",
    "total_correctas=int(input(\"Ingrese la cantidad de respuestas correctas\"))\n",
    "nivel=(total_correctas*100)/total_preguntas\n",
    "if nivel>=90:\n",
    "    print(\"Nivel Máximo\")\n",
    "else:\n",
    "    if nivel>=75:\n",
    "        print(\"Nivel Medio\")\n",
    "    else:\n",
    "        if nivel>=50:\n",
    "            print(\"Nivel Regular\")\n",
    "        else:\n",
    "            print(\"Fuera de Nivel\")"
   ]
  },
  {
   "cell_type": "markdown",
   "metadata": {},
   "source": [
    "Condiciones compuestas con operadores lógicos\n",
    "\n",
    "relacionales (>, <, >=, <= , ==, !=)\n",
    "matemáticos (+, -, *, /, //, **, %)\n",
    "pero nos están faltando otros operadores imprescindibles:\n",
    "\n",
    "lógicos (and y or)\n",
    "Estos dos operadores se emplean fundamentalmente en las estructuras condicionales para agrupar varias condiciones simples.\n",
    "\n",
    "Operador and\n",
    "Traducido se lo lee como “Y”. Si la Condición 1 es verdadera Y la condición 2 es verdadera luego ejecutar la rama del verdadero.\n",
    "Cuando vinculamos dos condiciones con el operador “and”, las dos condiciones deben ser verdaderas para que el resultado de la condición compuesta de Verdadero y continúe por la rama del verdadero de la estructura condicional.\n",
    "\n",
    "La utilización de operadores lógicos permiten en muchos casos plantear algoritmos más cortos y comprensibles."
   ]
  },
  {
   "cell_type": "markdown",
   "metadata": {},
   "source": [
    "PROBLEMA 18\n",
    "Confeccionar un programa que lea por teclado tres números enteros distintos y nos muestre el mayor."
   ]
  },
  {
   "cell_type": "code",
   "execution_count": 3,
   "metadata": {},
   "outputs": [
    {
     "name": "stdout",
     "output_type": "stream",
     "text": [
      "El ímero mayor es el:  99\n"
     ]
    }
   ],
   "source": [
    "nu1=int(input(\"Escribe primer numero\"))\n",
    "nu2=int(input(\"Escribe el segundo numero\"))\n",
    "nu3=int(input(\"Escribe el tercer numero\"))\n",
    "if nu1>nu2 and nu1>nu3:\n",
    "    print(\"El numero mayor es el: \",nu1)\n",
    "else:\n",
    "    if nu2>nu3:\n",
    "        print(\"El numero mayor es el: \",nu2)\n",
    "    else:\n",
    "        print(\"El numero mayor es el: \",nu3)"
   ]
  },
  {
   "cell_type": "markdown",
   "metadata": {},
   "source": [
    "Operador or\n",
    "\n",
    "Traducido se lo lee como “O”. Si la condición 1 es Verdadera o la condición 2 es Verdadera, luego ejecutar la rama del Verdadero.\n",
    "Cuando vinculamos dos o más condiciones con el operador “or\", con que una de las dos condiciones sea Verdadera alcanza para que el resultado de la condición compuesta sea Verdadero."
   ]
  },
  {
   "cell_type": "markdown",
   "metadata": {},
   "source": [
    "PROBLEMA 19\n",
    "Se carga una fecha (día, mes y año) por teclado. Mostrar un mensaje si corresponde al primer trimestre del año (enero, febrero o marzo) Cargar por teclado el valor numérico del día, mes y año.\n",
    "Ejemplo: dia:10 mes:2 año:2018"
   ]
  },
  {
   "cell_type": "code",
   "execution_count": 4,
   "metadata": {},
   "outputs": [
    {
     "name": "stdout",
     "output_type": "stream",
     "text": [
      "Corresponde al tercer trimestre\n"
     ]
    }
   ],
   "source": [
    "dia=int(input(\"Ingrese día\"))\n",
    "mes=int(input(\"Ingrese mes\"))\n",
    "año=int(input(\"Ingrese año\"))\n",
    "if mes==1 or mes==2 or mes==3:\n",
    "    print(\"Corresponde al tercer trimestre\")"
   ]
  },
  {
   "cell_type": "markdown",
   "metadata": {},
   "source": [
    "PROBLEMA 20\n",
    "Realizar un programa que pida cargar una fecha cualquiera, luego verificar si dicha fecha corresponde a Navidad."
   ]
  },
  {
   "cell_type": "code",
   "execution_count": 6,
   "metadata": {},
   "outputs": [
    {
     "name": "stdout",
     "output_type": "stream",
     "text": [
      "No es Navidad\n"
     ]
    }
   ],
   "source": [
    "dia=int(input(\"Ingrese el día\"))\n",
    "mes=int(input(\"Ingrese el mes\"))\n",
    "if dia==25 and mes==12:\n",
    "    print(\"Es Navidad\")\n",
    "else:\n",
    "    print(\"No es Navidad\")"
   ]
  },
  {
   "cell_type": "markdown",
   "metadata": {},
   "source": [
    "PROBLEMA 21\n",
    "Se ingresan por teclado tres números, si todos los valores ingresados son menores a 10, imprimir en pantalla la leyenda \"Todos los números son menores a diez\""
   ]
  },
  {
   "cell_type": "code",
   "execution_count": 9,
   "metadata": {},
   "outputs": [
    {
     "name": "stdout",
     "output_type": "stream",
     "text": [
      "Todos los valores son menores a 10\n"
     ]
    }
   ],
   "source": [
    "num1=int(input(\"Ingrese primer numero\"))\n",
    "num2=int(input(\"Ingrese segundo numero\"))\n",
    "num3=int(input(\"Ingrese tercer numero\"))\n",
    "if num1<10 and num2<10 and num3<10:\n",
    "    print(\"Todos los valores son menores a 10\")"
   ]
  },
  {
   "cell_type": "markdown",
   "metadata": {},
   "source": []
  }
 ],
 "metadata": {
  "kernelspec": {
   "display_name": "Python 3",
   "language": "python",
   "name": "python3"
  },
  "language_info": {
   "codemirror_mode": {
    "name": "ipython",
    "version": 3
   },
   "file_extension": ".py",
   "mimetype": "text/x-python",
   "name": "python",
   "nbconvert_exporter": "python",
   "pygments_lexer": "ipython3",
   "version": "3.11.4"
  }
 },
 "nbformat": 4,
 "nbformat_minor": 2
}
