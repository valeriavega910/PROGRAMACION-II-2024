{
 "cells": [
  {
   "cell_type": "markdown",
   "metadata": {},
   "source": []
  },
  {
   "cell_type": "code",
   "execution_count": 1,
   "metadata": {},
   "outputs": [
    {
     "name": "stdout",
     "output_type": "stream",
     "text": [
      "No adivinas la palabra, intentalo de nuevo.\n",
      "segundo commit\n"
     ]
    }
   ],
   "source": [
    "#voya declarar una variable\n",
    "palabra = \"zapallo\"\n",
    "if palabra == \"perro\":\n",
    "    print(\"Adivinaste\")\n",
    "\n",
    "else:\n",
    "    print (\"No adivinas la palabra, intentalo de nuevo.\")\n",
    "    print(\"segundo commit\")"
   ]
  }
 ],
 "metadata": {
  "kernelspec": {
   "display_name": "Python 3",
   "language": "python",
   "name": "python3"
  },
  "language_info": {
   "codemirror_mode": {
    "name": "ipython",
    "version": 3
   },
   "file_extension": ".py",
   "mimetype": "text/x-python",
   "name": "python",
   "nbconvert_exporter": "python",
   "pygments_lexer": "ipython3",
   "version": "3.11.4"
  },
  "orig_nbformat": 4
 },
 "nbformat": 4,
 "nbformat_minor": 2
}
